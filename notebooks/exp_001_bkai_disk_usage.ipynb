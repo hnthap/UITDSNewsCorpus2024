{
 "cells": [
  {
   "cell_type": "markdown",
   "metadata": {},
   "source": [
    "# Experiment 001: BKAINewsCorpus Disk Usage\n",
    "\n",
    "- **Date**: 2024-11-19\n",
    "- **Author**: Thap\n",
    "- **Description**: Finding out how large the BKAINewsCorpus is. Original: [Kaggle notebook](https://kaggle.com/huynhnhanthap/bkainewscorpus-disk-usage-experiment)."
   ]
  },
  {
   "cell_type": "code",
   "execution_count": 6,
   "metadata": {
    "_cell_guid": "b1076dfc-b9ad-4769-8c92-a6c4dae69d19",
    "_uuid": "8f2839f25d086af736a60e9eeb907d3b93b6e0e5",
    "execution": {
     "iopub.execute_input": "2024-11-19T08:32:22.107783Z",
     "iopub.status.busy": "2024-11-19T08:32:22.107188Z",
     "iopub.status.idle": "2024-11-19T08:54:03.824231Z",
     "shell.execute_reply": "2024-11-19T08:54:03.822060Z",
     "shell.execute_reply.started": "2024-11-19T08:32:22.107730Z"
    },
    "trusted": true
   },
   "outputs": [
    {
     "data": {
      "application/vnd.jupyter.widget-view+json": {
       "model_id": "867c9f287ce04496b532902773888159",
       "version_major": 2,
       "version_minor": 0
      },
      "text/plain": [
       "Resolving data files:   0%|          | 0/29 [00:00<?, ?it/s]"
      ]
     },
     "metadata": {},
     "output_type": "display_data"
    },
    {
     "data": {
      "application/vnd.jupyter.widget-view+json": {
       "model_id": "1e4d8f7cb9f64700b1ce06898d0be3c3",
       "version_major": 2,
       "version_minor": 0
      },
      "text/plain": [
       "Resolving data files:   0%|          | 0/29 [00:00<?, ?it/s]"
      ]
     },
     "metadata": {},
     "output_type": "display_data"
    },
    {
     "data": {
      "application/vnd.jupyter.widget-view+json": {
       "model_id": "96291864b672469bb7cd0967da03b542",
       "version_major": 2,
       "version_minor": 0
      },
      "text/plain": [
       "Downloading data:   0%|          | 0/29 [00:00<?, ?files/s]"
      ]
     },
     "metadata": {},
     "output_type": "display_data"
    },
    {
     "data": {
      "application/vnd.jupyter.widget-view+json": {
       "model_id": "1d3654970bf94d02b0a3d1197e6d976c",
       "version_major": 2,
       "version_minor": 0
      },
      "text/plain": [
       "(…)-00000-of-00029-64c4b5d20df8ef78.parquet:   0%|          | 0.00/1.20G [00:00<?, ?B/s]"
      ]
     },
     "metadata": {},
     "output_type": "display_data"
    },
    {
     "data": {
      "application/vnd.jupyter.widget-view+json": {
       "model_id": "7bda1fda9695406b943363becf5a7044",
       "version_major": 2,
       "version_minor": 0
      },
      "text/plain": [
       "(…)-00001-of-00029-2a1b18b0eddbcb50.parquet:   0%|          | 0.00/1.21G [00:00<?, ?B/s]"
      ]
     },
     "metadata": {},
     "output_type": "display_data"
    },
    {
     "data": {
      "application/vnd.jupyter.widget-view+json": {
       "model_id": "a239329cc547420d98dabccd412941f6",
       "version_major": 2,
       "version_minor": 0
      },
      "text/plain": [
       "(…)-00002-of-00029-89c2dae7b3d1187c.parquet:   0%|          | 0.00/1.21G [00:00<?, ?B/s]"
      ]
     },
     "metadata": {},
     "output_type": "display_data"
    },
    {
     "data": {
      "application/vnd.jupyter.widget-view+json": {
       "model_id": "39ef71d45d2147f7bbe1ef0eaceafede",
       "version_major": 2,
       "version_minor": 0
      },
      "text/plain": [
       "(…)-00003-of-00029-3cc1bd61047719dc.parquet:   0%|          | 0.00/1.22G [00:00<?, ?B/s]"
      ]
     },
     "metadata": {},
     "output_type": "display_data"
    },
    {
     "data": {
      "application/vnd.jupyter.widget-view+json": {
       "model_id": "d324b317fe7d4397a98cb0d37216ba2b",
       "version_major": 2,
       "version_minor": 0
      },
      "text/plain": [
       "(…)-00004-of-00029-bd3741d7c38f6715.parquet:   0%|          | 0.00/1.21G [00:00<?, ?B/s]"
      ]
     },
     "metadata": {},
     "output_type": "display_data"
    },
    {
     "data": {
      "application/vnd.jupyter.widget-view+json": {
       "model_id": "68b7d83c5e0a4a8d90f1d254f06c9342",
       "version_major": 2,
       "version_minor": 0
      },
      "text/plain": [
       "(…)-00005-of-00029-e5862a2894bc6c58.parquet:   0%|          | 0.00/1.23G [00:00<?, ?B/s]"
      ]
     },
     "metadata": {},
     "output_type": "display_data"
    },
    {
     "data": {
      "application/vnd.jupyter.widget-view+json": {
       "model_id": "1fab4ac9b6314b1e94355272caab6a90",
       "version_major": 2,
       "version_minor": 0
      },
      "text/plain": [
       "(…)-00006-of-00029-3573e4d4b26de930.parquet:   0%|          | 0.00/1.11G [00:00<?, ?B/s]"
      ]
     },
     "metadata": {},
     "output_type": "display_data"
    },
    {
     "data": {
      "application/vnd.jupyter.widget-view+json": {
       "model_id": "b4b2e1f689664f08b6272c2ff3ba507a",
       "version_major": 2,
       "version_minor": 0
      },
      "text/plain": [
       "(…)-00007-of-00029-de266ec03b452f83.parquet:   0%|          | 0.00/222M [00:00<?, ?B/s]"
      ]
     },
     "metadata": {},
     "output_type": "display_data"
    },
    {
     "data": {
      "application/vnd.jupyter.widget-view+json": {
       "model_id": "780d764a11874e29ae53829479e65fb1",
       "version_major": 2,
       "version_minor": 0
      },
      "text/plain": [
       "(…)-00008-of-00029-6c6fd99e19e87062.parquet:   0%|          | 0.00/145M [00:00<?, ?B/s]"
      ]
     },
     "metadata": {},
     "output_type": "display_data"
    },
    {
     "data": {
      "application/vnd.jupyter.widget-view+json": {
       "model_id": "c33a09b3e9ba47b18d152c15b733d0b6",
       "version_major": 2,
       "version_minor": 0
      },
      "text/plain": [
       "(…)-00009-of-00029-af880b2b4df27a82.parquet:   0%|          | 0.00/533M [00:00<?, ?B/s]"
      ]
     },
     "metadata": {},
     "output_type": "display_data"
    },
    {
     "data": {
      "application/vnd.jupyter.widget-view+json": {
       "model_id": "9589228a6105460d87df968d26f8c798",
       "version_major": 2,
       "version_minor": 0
      },
      "text/plain": [
       "(…)-00010-of-00029-2046d9d8e9c975cf.parquet:   0%|          | 0.00/1.05G [00:00<?, ?B/s]"
      ]
     },
     "metadata": {},
     "output_type": "display_data"
    },
    {
     "data": {
      "application/vnd.jupyter.widget-view+json": {
       "model_id": "b2e0d11617a0428d86999d3cf4c08156",
       "version_major": 2,
       "version_minor": 0
      },
      "text/plain": [
       "(…)-00011-of-00029-9919489501fe14a0.parquet:   0%|          | 0.00/1.04G [00:00<?, ?B/s]"
      ]
     },
     "metadata": {},
     "output_type": "display_data"
    },
    {
     "data": {
      "application/vnd.jupyter.widget-view+json": {
       "model_id": "3a8932f7455e4f3c9e906f6b209dc78c",
       "version_major": 2,
       "version_minor": 0
      },
      "text/plain": [
       "(…)-00012-of-00029-1584e67f3007afaa.parquet:   0%|          | 0.00/999M [00:00<?, ?B/s]"
      ]
     },
     "metadata": {},
     "output_type": "display_data"
    },
    {
     "data": {
      "application/vnd.jupyter.widget-view+json": {
       "model_id": "56bfa0e717464840aefae2e827b78408",
       "version_major": 2,
       "version_minor": 0
      },
      "text/plain": [
       "(…)-00013-of-00029-092d220a47d84b2f.parquet:   0%|          | 0.00/1.04G [00:00<?, ?B/s]"
      ]
     },
     "metadata": {},
     "output_type": "display_data"
    },
    {
     "data": {
      "application/vnd.jupyter.widget-view+json": {
       "model_id": "9b0f3ab7571142f383e0ac62b0bfb2a7",
       "version_major": 2,
       "version_minor": 0
      },
      "text/plain": [
       "(…)-00014-of-00029-c08ab0f5ee592761.parquet:   0%|          | 0.00/1.06G [00:00<?, ?B/s]"
      ]
     },
     "metadata": {},
     "output_type": "display_data"
    },
    {
     "data": {
      "application/vnd.jupyter.widget-view+json": {
       "model_id": "933f5dd4f58b4d17989a3ae942ec7786",
       "version_major": 2,
       "version_minor": 0
      },
      "text/plain": [
       "(…)-00015-of-00029-1520940b10fc7ebb.parquet:   0%|          | 0.00/1.06G [00:00<?, ?B/s]"
      ]
     },
     "metadata": {},
     "output_type": "display_data"
    },
    {
     "data": {
      "application/vnd.jupyter.widget-view+json": {
       "model_id": "9290be663bcf408db725dfcb7fb45b47",
       "version_major": 2,
       "version_minor": 0
      },
      "text/plain": [
       "(…)-00016-of-00029-bd78059d95622d50.parquet:   0%|          | 0.00/1.07G [00:00<?, ?B/s]"
      ]
     },
     "metadata": {},
     "output_type": "display_data"
    },
    {
     "data": {
      "application/vnd.jupyter.widget-view+json": {
       "model_id": "88efda9c888a49899950d9613b0cdba8",
       "version_major": 2,
       "version_minor": 0
      },
      "text/plain": [
       "(…)-00017-of-00029-581fcc18ae45c5df.parquet:   0%|          | 0.00/1.09G [00:00<?, ?B/s]"
      ]
     },
     "metadata": {},
     "output_type": "display_data"
    },
    {
     "data": {
      "application/vnd.jupyter.widget-view+json": {
       "model_id": "2b833b2f579b4ebf8f14863e0d55c80a",
       "version_major": 2,
       "version_minor": 0
      },
      "text/plain": [
       "(…)-00018-of-00029-97c404bc613ea754.parquet:   0%|          | 0.00/1.07G [00:00<?, ?B/s]"
      ]
     },
     "metadata": {},
     "output_type": "display_data"
    },
    {
     "data": {
      "application/vnd.jupyter.widget-view+json": {
       "model_id": "c261bb50d98c4b77a335062ffedc206c",
       "version_major": 2,
       "version_minor": 0
      },
      "text/plain": [
       "(…)-00019-of-00029-ce48a0f95bc8b4f3.parquet:   0%|          | 0.00/1.08G [00:00<?, ?B/s]"
      ]
     },
     "metadata": {},
     "output_type": "display_data"
    },
    {
     "data": {
      "application/vnd.jupyter.widget-view+json": {
       "model_id": "8a3e8a2fcc2c462cb3a3a2b4f3f547d1",
       "version_major": 2,
       "version_minor": 0
      },
      "text/plain": [
       "(…)-00020-of-00029-8e60e779cdee31ca.parquet:   0%|          | 0.00/1.07G [00:00<?, ?B/s]"
      ]
     },
     "metadata": {},
     "output_type": "display_data"
    },
    {
     "data": {
      "application/vnd.jupyter.widget-view+json": {
       "model_id": "00d79e6892324f4b8aa47cba4d34c891",
       "version_major": 2,
       "version_minor": 0
      },
      "text/plain": [
       "(…)-00021-of-00029-fb2c21d9fdfa48ce.parquet:   0%|          | 0.00/882M [00:00<?, ?B/s]"
      ]
     },
     "metadata": {},
     "output_type": "display_data"
    },
    {
     "data": {
      "application/vnd.jupyter.widget-view+json": {
       "model_id": "7490896a21864a5ea562c1bdaed918b2",
       "version_major": 2,
       "version_minor": 0
      },
      "text/plain": [
       "(…)-00022-of-00029-5302672064060bc0.parquet:   0%|          | 0.00/608M [00:00<?, ?B/s]"
      ]
     },
     "metadata": {},
     "output_type": "display_data"
    },
    {
     "data": {
      "application/vnd.jupyter.widget-view+json": {
       "model_id": "b28f01dd2f6d45c18aace966e34d149b",
       "version_major": 2,
       "version_minor": 0
      },
      "text/plain": [
       "(…)-00023-of-00029-96d3b72a2de96229.parquet:   0%|          | 0.00/1.03G [00:00<?, ?B/s]"
      ]
     },
     "metadata": {},
     "output_type": "display_data"
    },
    {
     "data": {
      "application/vnd.jupyter.widget-view+json": {
       "model_id": "933de9c88f61426b9c8d67a0ed443b79",
       "version_major": 2,
       "version_minor": 0
      },
      "text/plain": [
       "(…)-00024-of-00029-9a90433d13066b41.parquet:   0%|          | 0.00/1.04G [00:00<?, ?B/s]"
      ]
     },
     "metadata": {},
     "output_type": "display_data"
    },
    {
     "data": {
      "application/vnd.jupyter.widget-view+json": {
       "model_id": "ecf18642b3794fd289bee3fdeb185b61",
       "version_major": 2,
       "version_minor": 0
      },
      "text/plain": [
       "(…)-00025-of-00029-abc6ed9a7ec3a6dd.parquet:   0%|          | 0.00/1.06G [00:00<?, ?B/s]"
      ]
     },
     "metadata": {},
     "output_type": "display_data"
    },
    {
     "data": {
      "application/vnd.jupyter.widget-view+json": {
       "model_id": "2d5f6177f72044f4a8e0c55d10623605",
       "version_major": 2,
       "version_minor": 0
      },
      "text/plain": [
       "(…)-00026-of-00029-8899414212e5728d.parquet:   0%|          | 0.00/1.02G [00:00<?, ?B/s]"
      ]
     },
     "metadata": {},
     "output_type": "display_data"
    },
    {
     "data": {
      "application/vnd.jupyter.widget-view+json": {
       "model_id": "208a8ed2dca84c5ba2696bed29b0211b",
       "version_major": 2,
       "version_minor": 0
      },
      "text/plain": [
       "(…)-00027-of-00029-39e112aa20cf8dc6.parquet:   0%|          | 0.00/1.08G [00:00<?, ?B/s]"
      ]
     },
     "metadata": {},
     "output_type": "display_data"
    },
    {
     "data": {
      "application/vnd.jupyter.widget-view+json": {
       "model_id": "5bd726afee08415c9a72f7f479e82211",
       "version_major": 2,
       "version_minor": 0
      },
      "text/plain": [
       "(…)-00028-of-00029-8eb3a076a6f79406.parquet:   0%|          | 0.00/995M [00:00<?, ?B/s]"
      ]
     },
     "metadata": {},
     "output_type": "display_data"
    },
    {
     "data": {
      "application/vnd.jupyter.widget-view+json": {
       "model_id": "174187f352ae46c781ca69988dd344f7",
       "version_major": 2,
       "version_minor": 0
      },
      "text/plain": [
       "Generating train split:   0%|          | 0/16762024 [00:00<?, ? examples/s]"
      ]
     },
     "metadata": {},
     "output_type": "display_data"
    },
    {
     "data": {
      "application/vnd.jupyter.widget-view+json": {
       "model_id": "9655a58c312b44ecb7928c49d0ba4092",
       "version_major": 2,
       "version_minor": 0
      },
      "text/plain": [
       "Loading dataset shards:   0%|          | 0/113 [00:00<?, ?it/s]"
      ]
     },
     "metadata": {},
     "output_type": "display_data"
    }
   ],
   "source": [
    "from datasets import load_dataset\n",
    "\n",
    "ds = load_dataset('bkai-foundation-models/BKAINewsCorpus')"
   ]
  },
  {
   "cell_type": "code",
   "execution_count": 11,
   "metadata": {
    "execution": {
     "iopub.execute_input": "2024-11-19T09:01:19.184759Z",
     "iopub.status.busy": "2024-11-19T09:01:19.183769Z",
     "iopub.status.idle": "2024-11-19T09:01:19.192011Z",
     "shell.execute_reply": "2024-11-19T09:01:19.190721Z",
     "shell.execute_reply.started": "2024-11-19T09:01:19.184710Z"
    },
    "trusted": true
   },
   "outputs": [
    {
     "data": {
      "text/plain": [
       "DatasetInfo(description='', citation='', homepage='', license='', features={'id': Value(dtype='int64', id=None), 'link': Value(dtype='string', id=None), 'publish': {'$date': Value(dtype='string', id=None)}, 'text': Value(dtype='string', id=None)}, post_processed=None, supervised_keys=None, builder_name='parquet', dataset_name='bkai_news_corpus', config_name='default', version=0.0.0, splits={'train': SplitInfo(name='train', num_bytes=56446245041, num_examples=16762024, shard_lengths=[118000, 122000, 120000, 120000, 117001, 119000, 120000, 119000, 120000, 120001, 118000, 119000, 118000, 118000, 117001, 118000, 119000, 116000, 117000, 118001, 118000, 118000, 118000, 119000, 117001, 118000, 117000, 118000, 120000, 121001, 122000, 129000, 135000, 153001, 1090001, 446001, 139000, 139001, 139000, 142000, 143000, 141001, 142000, 139000, 145000, 146001, 151000, 151000, 146000, 144001, 142000, 142000, 143000, 142001, 140000, 140000, 140000, 141001, 141000, 139000, 139000, 139001, 139000, 139000, 139000, 140001, 137000, 137000, 137000, 140001, 140000, 138000, 141000, 141001, 139000, 138000, 140000, 139000, 138001, 139000, 141000, 146000, 144001, 144000, 146000, 481001, 142000, 140001, 140000, 144000, 143000, 144001, 142000, 140000, 141000, 142000, 139000, 139000, 137000, 136000, 141000, 146000, 147000, 138000, 138000, 138000, 136000, 131000, 131000, 130000, 135000, 153000, 99000], dataset_name='bkai_news_corpus')}, download_checksums={'hf://datasets/bkai-foundation-models/BKAINewsCorpus@783321886d11abffe99316606f21d68cbfd973be/data/train-00000-of-00029-64c4b5d20df8ef78.parquet': {'num_bytes': 1201022188, 'checksum': None}, 'hf://datasets/bkai-foundation-models/BKAINewsCorpus@783321886d11abffe99316606f21d68cbfd973be/data/train-00001-of-00029-2a1b18b0eddbcb50.parquet': {'num_bytes': 1209102269, 'checksum': None}, 'hf://datasets/bkai-foundation-models/BKAINewsCorpus@783321886d11abffe99316606f21d68cbfd973be/data/train-00002-of-00029-89c2dae7b3d1187c.parquet': {'num_bytes': 1210565256, 'checksum': None}, 'hf://datasets/bkai-foundation-models/BKAINewsCorpus@783321886d11abffe99316606f21d68cbfd973be/data/train-00003-of-00029-3cc1bd61047719dc.parquet': {'num_bytes': 1223859257, 'checksum': None}, 'hf://datasets/bkai-foundation-models/BKAINewsCorpus@783321886d11abffe99316606f21d68cbfd973be/data/train-00004-of-00029-bd3741d7c38f6715.parquet': {'num_bytes': 1212121795, 'checksum': None}, 'hf://datasets/bkai-foundation-models/BKAINewsCorpus@783321886d11abffe99316606f21d68cbfd973be/data/train-00005-of-00029-e5862a2894bc6c58.parquet': {'num_bytes': 1227187532, 'checksum': None}, 'hf://datasets/bkai-foundation-models/BKAINewsCorpus@783321886d11abffe99316606f21d68cbfd973be/data/train-00006-of-00029-3573e4d4b26de930.parquet': {'num_bytes': 1113885413, 'checksum': None}, 'hf://datasets/bkai-foundation-models/BKAINewsCorpus@783321886d11abffe99316606f21d68cbfd973be/data/train-00007-of-00029-de266ec03b452f83.parquet': {'num_bytes': 222490846, 'checksum': None}, 'hf://datasets/bkai-foundation-models/BKAINewsCorpus@783321886d11abffe99316606f21d68cbfd973be/data/train-00008-of-00029-6c6fd99e19e87062.parquet': {'num_bytes': 145352286, 'checksum': None}, 'hf://datasets/bkai-foundation-models/BKAINewsCorpus@783321886d11abffe99316606f21d68cbfd973be/data/train-00009-of-00029-af880b2b4df27a82.parquet': {'num_bytes': 532525797, 'checksum': None}, 'hf://datasets/bkai-foundation-models/BKAINewsCorpus@783321886d11abffe99316606f21d68cbfd973be/data/train-00010-of-00029-2046d9d8e9c975cf.parquet': {'num_bytes': 1048591888, 'checksum': None}, 'hf://datasets/bkai-foundation-models/BKAINewsCorpus@783321886d11abffe99316606f21d68cbfd973be/data/train-00011-of-00029-9919489501fe14a0.parquet': {'num_bytes': 1041865169, 'checksum': None}, 'hf://datasets/bkai-foundation-models/BKAINewsCorpus@783321886d11abffe99316606f21d68cbfd973be/data/train-00012-of-00029-1584e67f3007afaa.parquet': {'num_bytes': 999015148, 'checksum': None}, 'hf://datasets/bkai-foundation-models/BKAINewsCorpus@783321886d11abffe99316606f21d68cbfd973be/data/train-00013-of-00029-092d220a47d84b2f.parquet': {'num_bytes': 1039904598, 'checksum': None}, 'hf://datasets/bkai-foundation-models/BKAINewsCorpus@783321886d11abffe99316606f21d68cbfd973be/data/train-00014-of-00029-c08ab0f5ee592761.parquet': {'num_bytes': 1056364477, 'checksum': None}, 'hf://datasets/bkai-foundation-models/BKAINewsCorpus@783321886d11abffe99316606f21d68cbfd973be/data/train-00015-of-00029-1520940b10fc7ebb.parquet': {'num_bytes': 1060808767, 'checksum': None}, 'hf://datasets/bkai-foundation-models/BKAINewsCorpus@783321886d11abffe99316606f21d68cbfd973be/data/train-00016-of-00029-bd78059d95622d50.parquet': {'num_bytes': 1073079431, 'checksum': None}, 'hf://datasets/bkai-foundation-models/BKAINewsCorpus@783321886d11abffe99316606f21d68cbfd973be/data/train-00017-of-00029-581fcc18ae45c5df.parquet': {'num_bytes': 1086997671, 'checksum': None}, 'hf://datasets/bkai-foundation-models/BKAINewsCorpus@783321886d11abffe99316606f21d68cbfd973be/data/train-00018-of-00029-97c404bc613ea754.parquet': {'num_bytes': 1074315093, 'checksum': None}, 'hf://datasets/bkai-foundation-models/BKAINewsCorpus@783321886d11abffe99316606f21d68cbfd973be/data/train-00019-of-00029-ce48a0f95bc8b4f3.parquet': {'num_bytes': 1081996339, 'checksum': None}, 'hf://datasets/bkai-foundation-models/BKAINewsCorpus@783321886d11abffe99316606f21d68cbfd973be/data/train-00020-of-00029-8e60e779cdee31ca.parquet': {'num_bytes': 1073703279, 'checksum': None}, 'hf://datasets/bkai-foundation-models/BKAINewsCorpus@783321886d11abffe99316606f21d68cbfd973be/data/train-00021-of-00029-fb2c21d9fdfa48ce.parquet': {'num_bytes': 882048220, 'checksum': None}, 'hf://datasets/bkai-foundation-models/BKAINewsCorpus@783321886d11abffe99316606f21d68cbfd973be/data/train-00022-of-00029-5302672064060bc0.parquet': {'num_bytes': 608262119, 'checksum': None}, 'hf://datasets/bkai-foundation-models/BKAINewsCorpus@783321886d11abffe99316606f21d68cbfd973be/data/train-00023-of-00029-96d3b72a2de96229.parquet': {'num_bytes': 1033604299, 'checksum': None}, 'hf://datasets/bkai-foundation-models/BKAINewsCorpus@783321886d11abffe99316606f21d68cbfd973be/data/train-00024-of-00029-9a90433d13066b41.parquet': {'num_bytes': 1038290470, 'checksum': None}, 'hf://datasets/bkai-foundation-models/BKAINewsCorpus@783321886d11abffe99316606f21d68cbfd973be/data/train-00025-of-00029-abc6ed9a7ec3a6dd.parquet': {'num_bytes': 1060398834, 'checksum': None}, 'hf://datasets/bkai-foundation-models/BKAINewsCorpus@783321886d11abffe99316606f21d68cbfd973be/data/train-00026-of-00029-8899414212e5728d.parquet': {'num_bytes': 1018601812, 'checksum': None}, 'hf://datasets/bkai-foundation-models/BKAINewsCorpus@783321886d11abffe99316606f21d68cbfd973be/data/train-00027-of-00029-39e112aa20cf8dc6.parquet': {'num_bytes': 1081457565, 'checksum': None}, 'hf://datasets/bkai-foundation-models/BKAINewsCorpus@783321886d11abffe99316606f21d68cbfd973be/data/train-00028-of-00029-8eb3a076a6f79406.parquet': {'num_bytes': 994773191, 'checksum': None}}, download_size=28652191009, post_processing_size=None, dataset_size=56446245041, size_in_bytes=85098436050)"
      ]
     },
     "execution_count": 11,
     "metadata": {},
     "output_type": "execute_result"
    }
   ],
   "source": [
    "ds['train'].info"
   ]
  },
  {
   "cell_type": "code",
   "execution_count": 13,
   "metadata": {
    "execution": {
     "iopub.execute_input": "2024-11-19T09:02:09.087519Z",
     "iopub.status.busy": "2024-11-19T09:02:09.086444Z",
     "iopub.status.idle": "2024-11-19T09:02:09.093293Z",
     "shell.execute_reply": "2024-11-19T09:02:09.092027Z",
     "shell.execute_reply.started": "2024-11-19T09:02:09.087458Z"
    },
    "trusted": true
   },
   "outputs": [
    {
     "name": "stdout",
     "output_type": "stream",
     "text": [
      "Size: 79 GiB\n"
     ]
    }
   ],
   "source": [
    "size = ds['train'].info.size_in_bytes\n",
    "print('Size: %d GiB' % (size // (2 ** 30)))"
   ]
  }
 ],
 "metadata": {
  "kernelspec": {
   "display_name": "Python 3",
   "language": "python",
   "name": "python3"
  },
  "language_info": {
   "codemirror_mode": {
    "name": "ipython",
    "version": 3
   },
   "file_extension": ".py",
   "mimetype": "text/x-python",
   "name": "python",
   "nbconvert_exporter": "python",
   "pygments_lexer": "ipython3",
   "version": "3.10.14"
  }
 },
 "nbformat": 4,
 "nbformat_minor": 4
}
